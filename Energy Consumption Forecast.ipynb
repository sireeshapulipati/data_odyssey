{
 "cells": [
  {
   "cell_type": "markdown",
   "id": "eb9ee3ec-f3f7-4ae6-bfc3-44cf02f764a0",
   "metadata": {},
   "source": [
    "# Time series forecasting\n",
    "\n",
    "Ausgrid is one of the major electricity distributors in Australia. The company plays a crucial role in managing and distributing electricity to residential, commercial, and industrial consumers within its service area.\n",
    "The challenge is to develop a robust forecasting model that can predict energy consumption. The prediction ensures a proper control of the energy that will be supplied to the users resulting in optimal energy management.  \n"
   ]
  },
  {
   "cell_type": "markdown",
   "id": "17d82618-7483-48f8-92c4-add399a7705a",
   "metadata": {},
   "source": [
    "## Set up Google Cloud Environment"
   ]
  },
  {
   "cell_type": "code",
   "execution_count": null,
   "id": "91cc6981-3e8b-474f-918e-015e11ce51d7",
   "metadata": {},
   "outputs": [],
   "source": [
    "\n",
    "# Automatically restart kernel after installs so that your environment can access the new packages\n",
    "# import IPython\n",
    "\n",
    "# app = IPython.Application.instance()\n",
    "# app.kernel.do_shutdown(True)"
   ]
  },
  {
   "cell_type": "code",
   "execution_count": 2,
   "id": "1277fb45-c8f8-4d1f-b769-b9ccd9e84330",
   "metadata": {},
   "outputs": [
    {
     "name": "stdout",
     "output_type": "stream",
     "text": [
      "Updated property [core/project].\n"
     ]
    }
   ],
   "source": [
    "PROJECT_ID = \"silver-stratum-418405\"  # @param {type:\"string\"}\n",
    "\n",
    "# Set the project id\n",
    "! gcloud config set project {PROJECT_ID}\n",
    "REGION = \"us-central1\""
   ]
  },
  {
   "cell_type": "code",
   "execution_count": 8,
   "id": "11d27411-51b9-4413-bca0-7264a26423f1",
   "metadata": {},
   "outputs": [
    {
     "name": "stdout",
     "output_type": "stream",
     "text": [
      "Updated property [core/account].\n"
     ]
    }
   ],
   "source": [
    "# Authenticate Google Cloud Account\n",
    "! gcloud config set account \"68133805090-compute@developer.gserviceaccount.com\"\n",
    "#! gcloud auth login"
   ]
  },
  {
   "cell_type": "code",
   "execution_count": 18,
   "id": "b13e036f-5e5b-4c43-8a0b-6e195ea264c6",
   "metadata": {},
   "outputs": [
    {
     "name": "stdout",
     "output_type": "stream",
     "text": [
      "Copying gs://silver-stratum-bucket/SolarMonthlyData_2657Custs.csv...\n",
      "- [1 files][ 36.1 MiB/ 36.1 MiB]                                                \n",
      "Operation completed over 1 objects/36.1 MiB.                                     \n"
     ]
    }
   ],
   "source": [
    "# Get the source dataset from GCS\n",
    "! gsutil cp gs://silver-stratum-bucket/SolarMonthlyData_2657Custs.csv ."
   ]
  },
  {
   "cell_type": "code",
   "execution_count": 19,
   "id": "4efff682-984a-42b8-86f8-128ea976027f",
   "metadata": {
    "tags": []
   },
   "outputs": [
    {
     "name": "stdout",
     "output_type": "stream",
     "text": [
      "Copying gs://silver-stratum-bucket/NonSolarMonthlyData_4064Custs.csv...\n",
      "/ [1 files][ 30.1 MiB/ 30.1 MiB]                                                \n",
      "Operation completed over 1 objects/30.1 MiB.                                     \n"
     ]
    }
   ],
   "source": [
    "# Get the source dataset from GCS\n",
    "! gsutil cp gs://silver-stratum-bucket/NonSolarMonthlyData_4064Custs.csv ."
   ]
  },
  {
   "cell_type": "markdown",
   "id": "66e22726-5813-477b-9055-cdb68f9e5775",
   "metadata": {},
   "source": [
    "## Multi-series modeling\n",
    "\n",
    "Multi-Series Modeling (Global Forecasting Model) involves building a single predictive model that considers multiple time series simultaneously. It attempts to capture the core patterns that govern the series, thereby mitigating the potential noise that each series might introduce."
   ]
  },
  {
   "cell_type": "markdown",
   "id": "b0b0a644-1d64-41e4-8987-d49e06e5ed36",
   "metadata": {},
   "source": [
    "### Independent multi-series forecasting\n",
    "\n",
    "In independent multi-series forecasting, a single model is trained on all time series, but each remains independent of the others, meaning that past values of one series are not used as predictors of other series. "
   ]
  },
  {
   "cell_type": "code",
   "execution_count": 12,
   "id": "b76ca7a8-6635-4196-8efa-51fdc8a61668",
   "metadata": {
    "tags": []
   },
   "outputs": [
    {
     "name": "stdout",
     "output_type": "stream",
     "text": [
      "Collecting skforecast\n",
      "  Downloading skforecast-0.12.0-py3-none-any.whl.metadata (22 kB)\n",
      "Requirement already satisfied: numpy<1.27,>=1.20 in /opt/conda/lib/python3.10/site-packages (from skforecast) (1.24.4)\n",
      "Requirement already satisfied: pandas<2.3,>=1.2 in /opt/conda/lib/python3.10/site-packages (from skforecast) (2.0.3)\n",
      "Requirement already satisfied: tqdm<4.67,>=4.57 in /opt/conda/lib/python3.10/site-packages (from skforecast) (4.66.2)\n",
      "Requirement already satisfied: scikit-learn<1.5,>=1.2 in /opt/conda/lib/python3.10/site-packages (from skforecast) (1.4.2)\n",
      "Collecting optuna<3.7,>=2.10 (from skforecast)\n",
      "  Downloading optuna-3.6.1-py3-none-any.whl.metadata (17 kB)\n",
      "Requirement already satisfied: joblib<1.5,>=1.1 in /opt/conda/lib/python3.10/site-packages (from skforecast) (1.4.0)\n",
      "Collecting alembic>=1.5.0 (from optuna<3.7,>=2.10->skforecast)\n",
      "  Downloading alembic-1.13.1-py3-none-any.whl.metadata (7.4 kB)\n",
      "Collecting colorlog (from optuna<3.7,>=2.10->skforecast)\n",
      "  Downloading colorlog-6.8.2-py3-none-any.whl.metadata (10 kB)\n",
      "Requirement already satisfied: packaging>=20.0 in /opt/conda/lib/python3.10/site-packages (from optuna<3.7,>=2.10->skforecast) (24.0)\n",
      "Requirement already satisfied: sqlalchemy>=1.3.0 in /opt/conda/lib/python3.10/site-packages (from optuna<3.7,>=2.10->skforecast) (2.0.29)\n",
      "Requirement already satisfied: PyYAML in /opt/conda/lib/python3.10/site-packages (from optuna<3.7,>=2.10->skforecast) (6.0.1)\n",
      "Requirement already satisfied: python-dateutil>=2.8.2 in /opt/conda/lib/python3.10/site-packages (from pandas<2.3,>=1.2->skforecast) (2.9.0)\n",
      "Requirement already satisfied: pytz>=2020.1 in /opt/conda/lib/python3.10/site-packages (from pandas<2.3,>=1.2->skforecast) (2024.1)\n",
      "Requirement already satisfied: tzdata>=2022.1 in /opt/conda/lib/python3.10/site-packages (from pandas<2.3,>=1.2->skforecast) (2024.1)\n",
      "Requirement already satisfied: scipy>=1.6.0 in /opt/conda/lib/python3.10/site-packages (from scikit-learn<1.5,>=1.2->skforecast) (1.11.4)\n",
      "Requirement already satisfied: threadpoolctl>=2.0.0 in /opt/conda/lib/python3.10/site-packages (from scikit-learn<1.5,>=1.2->skforecast) (3.4.0)\n",
      "Collecting Mako (from alembic>=1.5.0->optuna<3.7,>=2.10->skforecast)\n",
      "  Downloading Mako-1.3.5-py3-none-any.whl.metadata (2.9 kB)\n",
      "Requirement already satisfied: typing-extensions>=4 in /opt/conda/lib/python3.10/site-packages (from alembic>=1.5.0->optuna<3.7,>=2.10->skforecast) (4.11.0)\n",
      "Requirement already satisfied: six>=1.5 in /opt/conda/lib/python3.10/site-packages (from python-dateutil>=2.8.2->pandas<2.3,>=1.2->skforecast) (1.16.0)\n",
      "Requirement already satisfied: greenlet!=0.4.17 in /opt/conda/lib/python3.10/site-packages (from sqlalchemy>=1.3.0->optuna<3.7,>=2.10->skforecast) (3.0.3)\n",
      "Requirement already satisfied: MarkupSafe>=0.9.2 in /opt/conda/lib/python3.10/site-packages (from Mako->alembic>=1.5.0->optuna<3.7,>=2.10->skforecast) (2.0.1)\n",
      "Downloading skforecast-0.12.0-py3-none-any.whl (558 kB)\n",
      "\u001b[2K   \u001b[90m━━━━━━━━━━━━━━━━━━━━━━━━━━━━━━━━━━━━━━━━\u001b[0m \u001b[32m558.3/558.3 kB\u001b[0m \u001b[31m7.5 MB/s\u001b[0m eta \u001b[36m0:00:00\u001b[0m00:01\u001b[0m00:01\u001b[0m\n",
      "\u001b[?25hDownloading optuna-3.6.1-py3-none-any.whl (380 kB)\n",
      "\u001b[2K   \u001b[90m━━━━━━━━━━━━━━━━━━━━━━━━━━━━━━━━━━━━━━━━\u001b[0m \u001b[32m380.1/380.1 kB\u001b[0m \u001b[31m30.5 MB/s\u001b[0m eta \u001b[36m0:00:00\u001b[0m\n",
      "\u001b[?25hDownloading alembic-1.13.1-py3-none-any.whl (233 kB)\n",
      "\u001b[2K   \u001b[90m━━━━━━━━━━━━━━━━━━━━━━━━━━━━━━━━━━━━━━━━\u001b[0m \u001b[32m233.4/233.4 kB\u001b[0m \u001b[31m24.4 MB/s\u001b[0m eta \u001b[36m0:00:00\u001b[0m\n",
      "\u001b[?25hDownloading colorlog-6.8.2-py3-none-any.whl (11 kB)\n",
      "Downloading Mako-1.3.5-py3-none-any.whl (78 kB)\n",
      "\u001b[2K   \u001b[90m━━━━━━━━━━━━━━━━━━━━━━━━━━━━━━━━━━━━━━━━\u001b[0m \u001b[32m78.6/78.6 kB\u001b[0m \u001b[31m8.7 MB/s\u001b[0m eta \u001b[36m0:00:00\u001b[0m\n",
      "\u001b[?25hInstalling collected packages: Mako, colorlog, alembic, optuna, skforecast\n",
      "Successfully installed Mako-1.3.5 alembic-1.13.1 colorlog-6.8.2 optuna-3.6.1 skforecast-0.12.0\n"
     ]
    }
   ],
   "source": [
    "! pip3 install skforecast"
   ]
  },
  {
   "cell_type": "code",
   "execution_count": 27,
   "id": "ed3a4a9b-40fc-4ba5-b0e5-f279a10a2a43",
   "metadata": {
    "tags": []
   },
   "outputs": [
    {
     "name": "stdout",
     "output_type": "stream",
     "text": [
      "Version skforecasy: 0.12.0\n",
      "Version scikit-learn: 1.4.2\n"
     ]
    }
   ],
   "source": [
    "# Libraries\n",
    "# ======================================================================================\n",
    "import sys\n",
    "import os\n",
    "import datetime as dt\n",
    "import warnings\n",
    "import numpy as np\n",
    "import pandas as pd\n",
    "import matplotlib.pyplot as plt\n",
    "from tqdm.notebook import tqdm\n",
    "from statsmodels.graphics.tsaplots import plot_acf\n",
    "import sklearn\n",
    "from sklearn.preprocessing import StandardScaler\n",
    "from sklearn.ensemble import  HistGradientBoostingRegressor\n",
    "import skforecast\n",
    "from skforecast.ForecasterAutoregMultiSeries import ForecasterAutoregMultiSeries\n",
    "from skforecast.ForecasterAutoreg import ForecasterAutoreg\n",
    "from skforecast.model_selection import backtesting_forecaster\n",
    "from skforecast.model_selection import bayesian_search_forecaster\n",
    "from skforecast.model_selection_multiseries import backtesting_forecaster_multiseries\n",
    "from skforecast.model_selection_multiseries import bayesian_search_forecaster_multiseries\n",
    "from skforecast.plot import set_dark_theme\n",
    "from skforecast.preprocessing import series_long_to_dict\n",
    "from skforecast.preprocessing import exog_long_to_dict\n",
    "warnings.filterwarnings('once')\n",
    "%matplotlib inline \n",
    "\n",
    "print(f\"Version skforecasy: {skforecast.__version__}\")\n",
    "print(f\"Version scikit-learn: {sklearn.__version__}\")"
   ]
  },
  {
   "cell_type": "code",
   "execution_count": 22,
   "id": "393e28eb-6135-4c11-b4bb-e7e7c5bc7673",
   "metadata": {
    "tags": []
   },
   "outputs": [
    {
     "data": {
      "text/html": [
       "<div>\n",
       "<style scoped>\n",
       "    .dataframe tbody tr th:only-of-type {\n",
       "        vertical-align: middle;\n",
       "    }\n",
       "\n",
       "    .dataframe tbody tr th {\n",
       "        vertical-align: top;\n",
       "    }\n",
       "\n",
       "    .dataframe thead th {\n",
       "        text-align: right;\n",
       "    }\n",
       "</style>\n",
       "<table border=\"1\" class=\"dataframe\">\n",
       "  <thead>\n",
       "    <tr style=\"text-align: right;\">\n",
       "      <th></th>\n",
       "      <th>Customer ID</th>\n",
       "      <th>Netwk Bill Rate Type</th>\n",
       "      <th>Consumption Month</th>\n",
       "      <th>Sum</th>\n",
       "      <th>Unit of me</th>\n",
       "    </tr>\n",
       "  </thead>\n",
       "  <tbody>\n",
       "    <tr>\n",
       "      <th>0</th>\n",
       "      <td>1</td>\n",
       "      <td>SC</td>\n",
       "      <td>1.2007</td>\n",
       "      <td>31.000</td>\n",
       "      <td>DAY</td>\n",
       "    </tr>\n",
       "    <tr>\n",
       "      <th>1</th>\n",
       "      <td>1</td>\n",
       "      <td>SC</td>\n",
       "      <td>1.2008</td>\n",
       "      <td>31.000</td>\n",
       "      <td>DAY</td>\n",
       "    </tr>\n",
       "    <tr>\n",
       "      <th>2</th>\n",
       "      <td>1</td>\n",
       "      <td>SC</td>\n",
       "      <td>1.2009</td>\n",
       "      <td>31.000</td>\n",
       "      <td>DAY</td>\n",
       "    </tr>\n",
       "    <tr>\n",
       "      <th>3</th>\n",
       "      <td>1</td>\n",
       "      <td>SC</td>\n",
       "      <td>1.2010</td>\n",
       "      <td>31.000</td>\n",
       "      <td>DAY</td>\n",
       "    </tr>\n",
       "    <tr>\n",
       "      <th>4</th>\n",
       "      <td>1</td>\n",
       "      <td>PK</td>\n",
       "      <td>1.2011</td>\n",
       "      <td>31.000</td>\n",
       "      <td>DAY</td>\n",
       "    </tr>\n",
       "    <tr>\n",
       "      <th>...</th>\n",
       "      <td>...</td>\n",
       "      <td>...</td>\n",
       "      <td>...</td>\n",
       "      <td>...</td>\n",
       "      <td>...</td>\n",
       "    </tr>\n",
       "    <tr>\n",
       "      <th>1378649</th>\n",
       "      <td>2768</td>\n",
       "      <td>SGR</td>\n",
       "      <td>12.2014</td>\n",
       "      <td>254.409</td>\n",
       "      <td>KWH</td>\n",
       "    </tr>\n",
       "    <tr>\n",
       "      <th>1378650</th>\n",
       "      <td>2768</td>\n",
       "      <td>PK</td>\n",
       "      <td>12.2014</td>\n",
       "      <td>52.251</td>\n",
       "      <td>KWH</td>\n",
       "    </tr>\n",
       "    <tr>\n",
       "      <th>1378651</th>\n",
       "      <td>2768</td>\n",
       "      <td>PGR</td>\n",
       "      <td>12.2014</td>\n",
       "      <td>104.164</td>\n",
       "      <td>KWH</td>\n",
       "    </tr>\n",
       "    <tr>\n",
       "      <th>1378652</th>\n",
       "      <td>2768</td>\n",
       "      <td>OP</td>\n",
       "      <td>12.2014</td>\n",
       "      <td>104.630</td>\n",
       "      <td>KWH</td>\n",
       "    </tr>\n",
       "    <tr>\n",
       "      <th>1378653</th>\n",
       "      <td>2768</td>\n",
       "      <td>OGR</td>\n",
       "      <td>12.2014</td>\n",
       "      <td>1.428</td>\n",
       "      <td>KWH</td>\n",
       "    </tr>\n",
       "  </tbody>\n",
       "</table>\n",
       "<p>1378654 rows × 5 columns</p>\n",
       "</div>"
      ],
      "text/plain": [
       "         Customer ID Netwk Bill Rate Type  Consumption Month      Sum  \\\n",
       "0                  1                   SC             1.2007   31.000   \n",
       "1                  1                   SC             1.2008   31.000   \n",
       "2                  1                   SC             1.2009   31.000   \n",
       "3                  1                   SC             1.2010   31.000   \n",
       "4                  1                   PK             1.2011   31.000   \n",
       "...              ...                  ...                ...      ...   \n",
       "1378649         2768                  SGR            12.2014  254.409   \n",
       "1378650         2768                   PK            12.2014   52.251   \n",
       "1378651         2768                  PGR            12.2014  104.164   \n",
       "1378652         2768                   OP            12.2014  104.630   \n",
       "1378653         2768                  OGR            12.2014    1.428   \n",
       "\n",
       "        Unit of me  \n",
       "0              DAY  \n",
       "1              DAY  \n",
       "2              DAY  \n",
       "3              DAY  \n",
       "4              DAY  \n",
       "...            ...  \n",
       "1378649        KWH  \n",
       "1378650        KWH  \n",
       "1378651        KWH  \n",
       "1378652        KWH  \n",
       "1378653        KWH  \n",
       "\n",
       "[1378654 rows x 5 columns]"
      ]
     },
     "metadata": {},
     "output_type": "display_data"
    },
    {
     "name": "stdout",
     "output_type": "stream",
     "text": [
      "Shape: (1378654, 5)\n"
     ]
    }
   ],
   "source": [
    "# Data loading\n",
    "# ======================================================================================\n",
    "solar_data = pd.read_csv('./SolarMonthlyData_2657Custs.csv')\n",
    "display(solar_data)\n",
    "print(f\"Shape: {solar_data.shape}\")"
   ]
  },
  {
   "cell_type": "code",
   "execution_count": 50,
   "id": "8ff41954-3262-48bb-8a86-72cdbaba0a60",
   "metadata": {
    "tags": []
   },
   "outputs": [
    {
     "data": {
      "text/plain": [
       "[Timestamp('2007-01-01 00:00:00'),\n",
       " Timestamp('2007-02-01 00:00:00'),\n",
       " Timestamp('2007-03-01 00:00:00'),\n",
       " Timestamp('2007-04-01 00:00:00'),\n",
       " Timestamp('2007-05-01 00:00:00'),\n",
       " Timestamp('2007-06-01 00:00:00'),\n",
       " Timestamp('2007-07-01 00:00:00'),\n",
       " Timestamp('2007-08-01 00:00:00'),\n",
       " Timestamp('2007-09-01 00:00:00'),\n",
       " Timestamp('2007-10-01 00:00:00'),\n",
       " Timestamp('2007-11-01 00:00:00'),\n",
       " Timestamp('2007-12-01 00:00:00'),\n",
       " Timestamp('2008-01-01 00:00:00'),\n",
       " Timestamp('2008-02-01 00:00:00'),\n",
       " Timestamp('2008-03-01 00:00:00'),\n",
       " Timestamp('2008-04-01 00:00:00'),\n",
       " Timestamp('2008-05-01 00:00:00'),\n",
       " Timestamp('2008-06-01 00:00:00'),\n",
       " Timestamp('2008-07-01 00:00:00'),\n",
       " Timestamp('2008-08-01 00:00:00'),\n",
       " Timestamp('2008-09-01 00:00:00'),\n",
       " Timestamp('2008-10-01 00:00:00'),\n",
       " Timestamp('2008-11-01 00:00:00'),\n",
       " Timestamp('2008-12-01 00:00:00'),\n",
       " Timestamp('2009-01-01 00:00:00'),\n",
       " Timestamp('2009-02-01 00:00:00'),\n",
       " Timestamp('2009-03-01 00:00:00'),\n",
       " Timestamp('2009-04-01 00:00:00'),\n",
       " Timestamp('2009-05-01 00:00:00'),\n",
       " Timestamp('2009-06-01 00:00:00'),\n",
       " Timestamp('2009-07-01 00:00:00'),\n",
       " Timestamp('2009-08-01 00:00:00'),\n",
       " Timestamp('2009-09-01 00:00:00'),\n",
       " Timestamp('2009-10-01 00:00:00'),\n",
       " Timestamp('2009-11-01 00:00:00'),\n",
       " Timestamp('2009-12-01 00:00:00'),\n",
       " Timestamp('2010-01-01 00:00:00'),\n",
       " Timestamp('2010-02-01 00:00:00'),\n",
       " Timestamp('2010-03-01 00:00:00'),\n",
       " Timestamp('2010-04-01 00:00:00'),\n",
       " Timestamp('2010-05-01 00:00:00'),\n",
       " Timestamp('2010-06-01 00:00:00'),\n",
       " Timestamp('2010-07-01 00:00:00'),\n",
       " Timestamp('2010-08-01 00:00:00'),\n",
       " Timestamp('2010-09-01 00:00:00'),\n",
       " Timestamp('2010-10-01 00:00:00'),\n",
       " Timestamp('2010-11-01 00:00:00'),\n",
       " Timestamp('2010-12-01 00:00:00'),\n",
       " Timestamp('2011-01-01 00:00:00'),\n",
       " Timestamp('2011-02-01 00:00:00'),\n",
       " Timestamp('2011-03-01 00:00:00'),\n",
       " Timestamp('2011-04-01 00:00:00'),\n",
       " Timestamp('2011-05-01 00:00:00'),\n",
       " Timestamp('2011-06-01 00:00:00'),\n",
       " Timestamp('2011-07-01 00:00:00'),\n",
       " Timestamp('2011-08-01 00:00:00'),\n",
       " Timestamp('2011-09-01 00:00:00'),\n",
       " Timestamp('2011-10-01 00:00:00'),\n",
       " Timestamp('2011-11-01 00:00:00'),\n",
       " Timestamp('2011-12-01 00:00:00'),\n",
       " Timestamp('2012-01-01 00:00:00'),\n",
       " Timestamp('2012-02-01 00:00:00'),\n",
       " Timestamp('2012-03-01 00:00:00'),\n",
       " Timestamp('2012-04-01 00:00:00'),\n",
       " Timestamp('2012-05-01 00:00:00'),\n",
       " Timestamp('2012-06-01 00:00:00'),\n",
       " Timestamp('2012-07-01 00:00:00'),\n",
       " Timestamp('2012-08-01 00:00:00'),\n",
       " Timestamp('2012-09-01 00:00:00'),\n",
       " Timestamp('2012-10-01 00:00:00'),\n",
       " Timestamp('2012-11-01 00:00:00'),\n",
       " Timestamp('2012-12-01 00:00:00'),\n",
       " Timestamp('2013-01-01 00:00:00'),\n",
       " Timestamp('2013-02-01 00:00:00'),\n",
       " Timestamp('2013-03-01 00:00:00'),\n",
       " Timestamp('2013-04-01 00:00:00'),\n",
       " Timestamp('2013-05-01 00:00:00'),\n",
       " Timestamp('2013-06-01 00:00:00'),\n",
       " Timestamp('2013-07-01 00:00:00'),\n",
       " Timestamp('2013-08-01 00:00:00'),\n",
       " Timestamp('2013-09-01 00:00:00'),\n",
       " Timestamp('2013-10-01 00:00:00'),\n",
       " Timestamp('2013-11-01 00:00:00'),\n",
       " Timestamp('2013-12-01 00:00:00'),\n",
       " Timestamp('2014-01-01 00:00:00'),\n",
       " Timestamp('2014-02-01 00:00:00'),\n",
       " Timestamp('2014-03-01 00:00:00'),\n",
       " Timestamp('2014-04-01 00:00:00'),\n",
       " Timestamp('2014-05-01 00:00:00'),\n",
       " Timestamp('2014-06-01 00:00:00'),\n",
       " Timestamp('2014-07-01 00:00:00'),\n",
       " Timestamp('2014-08-01 00:00:00'),\n",
       " Timestamp('2014-09-01 00:00:00'),\n",
       " Timestamp('2014-10-01 00:00:00'),\n",
       " Timestamp('2014-11-01 00:00:00'),\n",
       " Timestamp('2014-12-01 00:00:00'),\n",
       " Timestamp('2015-01-01 00:00:00'),\n",
       " Timestamp('2015-02-01 00:00:00'),\n",
       " Timestamp('2015-03-01 00:00:00'),\n",
       " Timestamp('2015-04-01 00:00:00')]"
      ]
     },
     "execution_count": 50,
     "metadata": {},
     "output_type": "execute_result"
    }
   ],
   "source": [
    "sorted(solar_data_consumption['Consumption Month'].unique())"
   ]
  },
  {
   "cell_type": "code",
   "execution_count": 36,
   "id": "37539704-b10f-4c80-9796-d387f035b461",
   "metadata": {
    "tags": []
   },
   "outputs": [
    {
     "data": {
      "text/html": [
       "<div>\n",
       "<style scoped>\n",
       "    .dataframe tbody tr th:only-of-type {\n",
       "        vertical-align: middle;\n",
       "    }\n",
       "\n",
       "    .dataframe tbody tr th {\n",
       "        vertical-align: top;\n",
       "    }\n",
       "\n",
       "    .dataframe thead th {\n",
       "        text-align: right;\n",
       "    }\n",
       "</style>\n",
       "<table border=\"1\" class=\"dataframe\">\n",
       "  <thead>\n",
       "    <tr style=\"text-align: right;\">\n",
       "      <th></th>\n",
       "      <th>Customer ID</th>\n",
       "      <th>Netwk Bill Rate Type</th>\n",
       "      <th>Consumption Month</th>\n",
       "      <th>Sum</th>\n",
       "      <th>Unit of me</th>\n",
       "      <th>house_type</th>\n",
       "    </tr>\n",
       "  </thead>\n",
       "  <tbody>\n",
       "    <tr>\n",
       "      <th>96</th>\n",
       "      <td>1</td>\n",
       "      <td>OP1</td>\n",
       "      <td>2007-01-01</td>\n",
       "      <td>168.073</td>\n",
       "      <td>KWH</td>\n",
       "      <td>solar</td>\n",
       "    </tr>\n",
       "    <tr>\n",
       "      <th>97</th>\n",
       "      <td>1</td>\n",
       "      <td>OP1</td>\n",
       "      <td>2008-01-01</td>\n",
       "      <td>145.746</td>\n",
       "      <td>KWH</td>\n",
       "      <td>solar</td>\n",
       "    </tr>\n",
       "    <tr>\n",
       "      <th>99</th>\n",
       "      <td>1</td>\n",
       "      <td>OP1</td>\n",
       "      <td>2009-01-01</td>\n",
       "      <td>189.888</td>\n",
       "      <td>KWH</td>\n",
       "      <td>solar</td>\n",
       "    </tr>\n",
       "    <tr>\n",
       "      <th>101</th>\n",
       "      <td>1</td>\n",
       "      <td>OP1</td>\n",
       "      <td>2010-01-01</td>\n",
       "      <td>163.563</td>\n",
       "      <td>KWH</td>\n",
       "      <td>solar</td>\n",
       "    </tr>\n",
       "    <tr>\n",
       "      <th>103</th>\n",
       "      <td>1</td>\n",
       "      <td>OP1</td>\n",
       "      <td>2011-01-01</td>\n",
       "      <td>176.308</td>\n",
       "      <td>KWH</td>\n",
       "      <td>solar</td>\n",
       "    </tr>\n",
       "  </tbody>\n",
       "</table>\n",
       "</div>"
      ],
      "text/plain": [
       "     Customer ID Netwk Bill Rate Type Consumption Month      Sum Unit of me  \\\n",
       "96             1                  OP1        2007-01-01  168.073        KWH   \n",
       "97             1                  OP1        2008-01-01  145.746        KWH   \n",
       "99             1                  OP1        2009-01-01  189.888        KWH   \n",
       "101            1                  OP1        2010-01-01  163.563        KWH   \n",
       "103            1                  OP1        2011-01-01  176.308        KWH   \n",
       "\n",
       "    house_type  \n",
       "96       solar  \n",
       "97       solar  \n",
       "99       solar  \n",
       "101      solar  \n",
       "103      solar  "
      ]
     },
     "execution_count": 36,
     "metadata": {},
     "output_type": "execute_result"
    }
   ],
   "source": [
    "# Data preprocessing\n",
    "# ======================================================================================\n",
    "consumption_billrate = ['PK', 'LVP', 'SH', 'LVS','OP','OP1','OP2']\n",
    "solar_data_consumption = solar_data[(solar_data['Netwk Bill Rate Type'].isin(consumption_billrate)) & (solar_data['Unit of me'] == 'KWH')].copy()\n",
    "solar_data_consumption['Consumption Month'] = solar_data_consumption['Consumption Month'].apply(lambda x: \"{:.4f}\".format(x))\n",
    "solar_data_consumption['Consumption Month'] = solar_data_consumption['Consumption Month'].astype('str')\n",
    "solar_data_consumption['Consumption Month'] = pd.to_datetime(solar_data_consumption['Consumption Month'].apply(lambda x: dt.datetime.strptime(x, '%m.%Y')))\n",
    "solar_data_consumption['house_type'] = 'solar'\n",
    "solar_data_consumption.head()"
   ]
  },
  {
   "cell_type": "code",
   "execution_count": 34,
   "id": "f0d5ed26-8556-49a6-bb27-ef4a6de44db4",
   "metadata": {
    "tags": []
   },
   "outputs": [
    {
     "data": {
      "text/html": [
       "<div>\n",
       "<style scoped>\n",
       "    .dataframe tbody tr th:only-of-type {\n",
       "        vertical-align: middle;\n",
       "    }\n",
       "\n",
       "    .dataframe tbody tr th {\n",
       "        vertical-align: top;\n",
       "    }\n",
       "\n",
       "    .dataframe thead th {\n",
       "        text-align: right;\n",
       "    }\n",
       "</style>\n",
       "<table border=\"1\" class=\"dataframe\">\n",
       "  <thead>\n",
       "    <tr style=\"text-align: right;\">\n",
       "      <th></th>\n",
       "      <th>Customer ID</th>\n",
       "      <th>Netwk Bill Rate Type</th>\n",
       "      <th>Consumption Month</th>\n",
       "      <th>Sum</th>\n",
       "      <th>Unit of me</th>\n",
       "    </tr>\n",
       "  </thead>\n",
       "  <tbody>\n",
       "    <tr>\n",
       "      <th>0</th>\n",
       "      <td>3001</td>\n",
       "      <td>LVP</td>\n",
       "      <td>1.2007</td>\n",
       "      <td>31.000</td>\n",
       "      <td>DAY</td>\n",
       "    </tr>\n",
       "    <tr>\n",
       "      <th>1</th>\n",
       "      <td>3001</td>\n",
       "      <td>LVP</td>\n",
       "      <td>1.2007</td>\n",
       "      <td>213.489</td>\n",
       "      <td>KWH</td>\n",
       "    </tr>\n",
       "    <tr>\n",
       "      <th>2</th>\n",
       "      <td>3001</td>\n",
       "      <td>OP</td>\n",
       "      <td>1.2007</td>\n",
       "      <td>282.161</td>\n",
       "      <td>KWH</td>\n",
       "    </tr>\n",
       "    <tr>\n",
       "      <th>3</th>\n",
       "      <td>3001</td>\n",
       "      <td>LVS</td>\n",
       "      <td>1.2007</td>\n",
       "      <td>573.745</td>\n",
       "      <td>KWH</td>\n",
       "    </tr>\n",
       "    <tr>\n",
       "      <th>4</th>\n",
       "      <td>3001</td>\n",
       "      <td>OP1</td>\n",
       "      <td>1.2007</td>\n",
       "      <td>313.027</td>\n",
       "      <td>KWH</td>\n",
       "    </tr>\n",
       "    <tr>\n",
       "      <th>...</th>\n",
       "      <td>...</td>\n",
       "      <td>...</td>\n",
       "      <td>...</td>\n",
       "      <td>...</td>\n",
       "      <td>...</td>\n",
       "    </tr>\n",
       "    <tr>\n",
       "      <th>1163013</th>\n",
       "      <td>7064</td>\n",
       "      <td>SC</td>\n",
       "      <td>12.2013</td>\n",
       "      <td>945.171</td>\n",
       "      <td>KWH</td>\n",
       "    </tr>\n",
       "    <tr>\n",
       "      <th>1163014</th>\n",
       "      <td>7064</td>\n",
       "      <td>OP2</td>\n",
       "      <td>12.2013</td>\n",
       "      <td>0.000</td>\n",
       "      <td>KWH</td>\n",
       "    </tr>\n",
       "    <tr>\n",
       "      <th>1163015</th>\n",
       "      <td>7064</td>\n",
       "      <td>SC</td>\n",
       "      <td>12.2014</td>\n",
       "      <td>31.000</td>\n",
       "      <td>DAY</td>\n",
       "    </tr>\n",
       "    <tr>\n",
       "      <th>1163016</th>\n",
       "      <td>7064</td>\n",
       "      <td>SC</td>\n",
       "      <td>12.2014</td>\n",
       "      <td>944.682</td>\n",
       "      <td>KWH</td>\n",
       "    </tr>\n",
       "    <tr>\n",
       "      <th>1163017</th>\n",
       "      <td>7064</td>\n",
       "      <td>OP2</td>\n",
       "      <td>12.2014</td>\n",
       "      <td>0.000</td>\n",
       "      <td>KWH</td>\n",
       "    </tr>\n",
       "  </tbody>\n",
       "</table>\n",
       "<p>1163018 rows × 5 columns</p>\n",
       "</div>"
      ],
      "text/plain": [
       "         Customer ID Netwk Bill Rate Type  Consumption Month      Sum  \\\n",
       "0               3001                  LVP             1.2007   31.000   \n",
       "1               3001                  LVP             1.2007  213.489   \n",
       "2               3001                   OP             1.2007  282.161   \n",
       "3               3001                  LVS             1.2007  573.745   \n",
       "4               3001                  OP1             1.2007  313.027   \n",
       "...              ...                  ...                ...      ...   \n",
       "1163013         7064                   SC            12.2013  945.171   \n",
       "1163014         7064                  OP2            12.2013    0.000   \n",
       "1163015         7064                   SC            12.2014   31.000   \n",
       "1163016         7064                   SC            12.2014  944.682   \n",
       "1163017         7064                  OP2            12.2014    0.000   \n",
       "\n",
       "        Unit of me  \n",
       "0              DAY  \n",
       "1              KWH  \n",
       "2              KWH  \n",
       "3              KWH  \n",
       "4              KWH  \n",
       "...            ...  \n",
       "1163013        KWH  \n",
       "1163014        KWH  \n",
       "1163015        DAY  \n",
       "1163016        KWH  \n",
       "1163017        KWH  \n",
       "\n",
       "[1163018 rows x 5 columns]"
      ]
     },
     "metadata": {},
     "output_type": "display_data"
    },
    {
     "name": "stdout",
     "output_type": "stream",
     "text": [
      "Shape: (1163018, 5)\n"
     ]
    }
   ],
   "source": [
    "# Data loading\n",
    "# ======================================================================================\n",
    "nonsolar_data = pd.read_csv('./NonSolarMonthlyData_4064Custs.csv')\n",
    "display(nonsolar_data)\n",
    "print(f\"Shape: {nonsolar_data.shape}\")"
   ]
  },
  {
   "cell_type": "code",
   "execution_count": 37,
   "id": "a81cee6b-c832-4d46-ae6d-5ae762319770",
   "metadata": {
    "tags": []
   },
   "outputs": [
    {
     "data": {
      "text/html": [
       "<div>\n",
       "<style scoped>\n",
       "    .dataframe tbody tr th:only-of-type {\n",
       "        vertical-align: middle;\n",
       "    }\n",
       "\n",
       "    .dataframe tbody tr th {\n",
       "        vertical-align: top;\n",
       "    }\n",
       "\n",
       "    .dataframe thead th {\n",
       "        text-align: right;\n",
       "    }\n",
       "</style>\n",
       "<table border=\"1\" class=\"dataframe\">\n",
       "  <thead>\n",
       "    <tr style=\"text-align: right;\">\n",
       "      <th></th>\n",
       "      <th>Customer ID</th>\n",
       "      <th>Netwk Bill Rate Type</th>\n",
       "      <th>Consumption Month</th>\n",
       "      <th>Sum</th>\n",
       "      <th>Unit of me</th>\n",
       "      <th>house_type</th>\n",
       "    </tr>\n",
       "  </thead>\n",
       "  <tbody>\n",
       "    <tr>\n",
       "      <th>1</th>\n",
       "      <td>3001</td>\n",
       "      <td>LVP</td>\n",
       "      <td>2007-01-01</td>\n",
       "      <td>213.489</td>\n",
       "      <td>KWH</td>\n",
       "      <td>nonsolar</td>\n",
       "    </tr>\n",
       "    <tr>\n",
       "      <th>2</th>\n",
       "      <td>3001</td>\n",
       "      <td>OP</td>\n",
       "      <td>2007-01-01</td>\n",
       "      <td>282.161</td>\n",
       "      <td>KWH</td>\n",
       "      <td>nonsolar</td>\n",
       "    </tr>\n",
       "    <tr>\n",
       "      <th>3</th>\n",
       "      <td>3001</td>\n",
       "      <td>LVS</td>\n",
       "      <td>2007-01-01</td>\n",
       "      <td>573.745</td>\n",
       "      <td>KWH</td>\n",
       "      <td>nonsolar</td>\n",
       "    </tr>\n",
       "    <tr>\n",
       "      <th>4</th>\n",
       "      <td>3001</td>\n",
       "      <td>OP1</td>\n",
       "      <td>2007-01-01</td>\n",
       "      <td>313.027</td>\n",
       "      <td>KWH</td>\n",
       "      <td>nonsolar</td>\n",
       "    </tr>\n",
       "    <tr>\n",
       "      <th>6</th>\n",
       "      <td>3001</td>\n",
       "      <td>OP</td>\n",
       "      <td>2008-01-01</td>\n",
       "      <td>367.863</td>\n",
       "      <td>KWH</td>\n",
       "      <td>nonsolar</td>\n",
       "    </tr>\n",
       "  </tbody>\n",
       "</table>\n",
       "</div>"
      ],
      "text/plain": [
       "   Customer ID Netwk Bill Rate Type Consumption Month      Sum Unit of me  \\\n",
       "1         3001                  LVP        2007-01-01  213.489        KWH   \n",
       "2         3001                   OP        2007-01-01  282.161        KWH   \n",
       "3         3001                  LVS        2007-01-01  573.745        KWH   \n",
       "4         3001                  OP1        2007-01-01  313.027        KWH   \n",
       "6         3001                   OP        2008-01-01  367.863        KWH   \n",
       "\n",
       "  house_type  \n",
       "1   nonsolar  \n",
       "2   nonsolar  \n",
       "3   nonsolar  \n",
       "4   nonsolar  \n",
       "6   nonsolar  "
      ]
     },
     "execution_count": 37,
     "metadata": {},
     "output_type": "execute_result"
    }
   ],
   "source": [
    "# Data preprocessing\n",
    "# ======================================================================================\n",
    "consumption_billrate = ['PK', 'LVP', 'SH', 'LVS','OP','OP1','OP2']\n",
    "nonsolar_data_consumption = nonsolar_data[(nonsolar_data['Netwk Bill Rate Type'].isin(consumption_billrate)) & (nonsolar_data['Unit of me'] == 'KWH')].copy()\n",
    "nonsolar_data_consumption['Consumption Month'] = nonsolar_data_consumption['Consumption Month'].apply(lambda x: \"{:.4f}\".format(x))\n",
    "nonsolar_data_consumption['Consumption Month'] = nonsolar_data_consumption['Consumption Month'].astype('str')\n",
    "nonsolar_data_consumption['Consumption Month'] = pd.to_datetime(nonsolar_data_consumption['Consumption Month'].apply(lambda x: dt.datetime.strptime(x, '%m.%Y')))\n",
    "nonsolar_data_consumption['house_type'] = 'nonsolar'\n",
    "nonsolar_data_consumption.head()"
   ]
  },
  {
   "cell_type": "code",
   "execution_count": 40,
   "id": "05457a8e-ed1a-4776-9a73-cbb591bbb3e5",
   "metadata": {
    "tags": []
   },
   "outputs": [
    {
     "data": {
      "text/plain": [
       "house_type\n",
       "nonsolar    406418\n",
       "solar       584031\n",
       "dtype: int64"
      ]
     },
     "execution_count": 40,
     "metadata": {},
     "output_type": "execute_result"
    }
   ],
   "source": [
    "# Combine solar and non-solar\n",
    "combined_data = pd.concat([solar_data_consumption, nonsolar_data_consumption])\n",
    "combined_data.groupby(['house_type']).size()"
   ]
  },
  {
   "cell_type": "code",
   "execution_count": 45,
   "id": "4030341d-e7cc-4ac8-a418-9e391fa0d042",
   "metadata": {
    "tags": []
   },
   "outputs": [
    {
     "data": {
      "text/html": [
       "<div>\n",
       "<style scoped>\n",
       "    .dataframe tbody tr th:only-of-type {\n",
       "        vertical-align: middle;\n",
       "    }\n",
       "\n",
       "    .dataframe tbody tr th {\n",
       "        vertical-align: top;\n",
       "    }\n",
       "\n",
       "    .dataframe thead th {\n",
       "        text-align: right;\n",
       "    }\n",
       "</style>\n",
       "<table border=\"1\" class=\"dataframe\">\n",
       "  <thead>\n",
       "    <tr style=\"text-align: right;\">\n",
       "      <th></th>\n",
       "      <th>house_type</th>\n",
       "      <th>Consumption Month</th>\n",
       "      <th>Sum</th>\n",
       "    </tr>\n",
       "  </thead>\n",
       "  <tbody>\n",
       "    <tr>\n",
       "      <th>0</th>\n",
       "      <td>nonsolar</td>\n",
       "      <td>2007-01-01</td>\n",
       "      <td>605267.247</td>\n",
       "    </tr>\n",
       "    <tr>\n",
       "      <th>1</th>\n",
       "      <td>nonsolar</td>\n",
       "      <td>2007-02-01</td>\n",
       "      <td>559409.511</td>\n",
       "    </tr>\n",
       "    <tr>\n",
       "      <th>2</th>\n",
       "      <td>nonsolar</td>\n",
       "      <td>2007-03-01</td>\n",
       "      <td>662689.304</td>\n",
       "    </tr>\n",
       "    <tr>\n",
       "      <th>3</th>\n",
       "      <td>nonsolar</td>\n",
       "      <td>2007-04-01</td>\n",
       "      <td>706201.692</td>\n",
       "    </tr>\n",
       "    <tr>\n",
       "      <th>4</th>\n",
       "      <td>nonsolar</td>\n",
       "      <td>2007-05-01</td>\n",
       "      <td>835932.131</td>\n",
       "    </tr>\n",
       "  </tbody>\n",
       "</table>\n",
       "</div>"
      ],
      "text/plain": [
       "  house_type Consumption Month         Sum\n",
       "0   nonsolar        2007-01-01  605267.247\n",
       "1   nonsolar        2007-02-01  559409.511\n",
       "2   nonsolar        2007-03-01  662689.304\n",
       "3   nonsolar        2007-04-01  706201.692\n",
       "4   nonsolar        2007-05-01  835932.131"
      ]
     },
     "execution_count": 45,
     "metadata": {},
     "output_type": "execute_result"
    }
   ],
   "source": [
    "combined_data_grouped = combined_data.groupby(['house_type','Consumption Month'])['Sum'].agg('sum').reset_index()\n",
    "combined_data_grouped.head()"
   ]
  },
  {
   "cell_type": "code",
   "execution_count": 97,
   "id": "4617cfe9-4108-47dd-bf09-02465a5da785",
   "metadata": {
    "tags": []
   },
   "outputs": [
    {
     "data": {
      "text/html": [
       "<div>\n",
       "<style scoped>\n",
       "    .dataframe tbody tr th:only-of-type {\n",
       "        vertical-align: middle;\n",
       "    }\n",
       "\n",
       "    .dataframe tbody tr th {\n",
       "        vertical-align: top;\n",
       "    }\n",
       "\n",
       "    .dataframe thead th {\n",
       "        text-align: right;\n",
       "    }\n",
       "</style>\n",
       "<table border=\"1\" class=\"dataframe\">\n",
       "  <thead>\n",
       "    <tr style=\"text-align: right;\">\n",
       "      <th>house_type</th>\n",
       "      <th>nonsolar</th>\n",
       "      <th>solar</th>\n",
       "    </tr>\n",
       "    <tr>\n",
       "      <th>Consumption Month</th>\n",
       "      <th></th>\n",
       "      <th></th>\n",
       "    </tr>\n",
       "  </thead>\n",
       "  <tbody>\n",
       "    <tr>\n",
       "      <th>2007-01-01</th>\n",
       "      <td>605267.247</td>\n",
       "      <td>419325.368</td>\n",
       "    </tr>\n",
       "    <tr>\n",
       "      <th>2007-02-01</th>\n",
       "      <td>559409.511</td>\n",
       "      <td>386458.534</td>\n",
       "    </tr>\n",
       "    <tr>\n",
       "      <th>2007-03-01</th>\n",
       "      <td>662689.304</td>\n",
       "      <td>464260.421</td>\n",
       "    </tr>\n",
       "    <tr>\n",
       "      <th>2007-04-01</th>\n",
       "      <td>706201.692</td>\n",
       "      <td>492518.867</td>\n",
       "    </tr>\n",
       "    <tr>\n",
       "      <th>2007-05-01</th>\n",
       "      <td>835932.131</td>\n",
       "      <td>588454.604</td>\n",
       "    </tr>\n",
       "  </tbody>\n",
       "</table>\n",
       "</div>"
      ],
      "text/plain": [
       "house_type           nonsolar       solar\n",
       "Consumption Month                        \n",
       "2007-01-01         605267.247  419325.368\n",
       "2007-02-01         559409.511  386458.534\n",
       "2007-03-01         662689.304  464260.421\n",
       "2007-04-01         706201.692  492518.867\n",
       "2007-05-01         835932.131  588454.604"
      ]
     },
     "execution_count": 97,
     "metadata": {},
     "output_type": "execute_result"
    }
   ],
   "source": [
    "consumption_data = pd.pivot_table(\n",
    "           data    = combined_data_grouped,\n",
    "           values  = 'Sum',\n",
    "           index   = 'Consumption Month',\n",
    "           columns = 'house_type'\n",
    "       )\n",
    "consumption_data.head()"
   ]
  },
  {
   "cell_type": "code",
   "execution_count": 99,
   "id": "0df7a500-bbf7-4133-a160-0638d195abff",
   "metadata": {
    "tags": []
   },
   "outputs": [
    {
     "name": "stdout",
     "output_type": "stream",
     "text": [
      "Train dates      : 2007-01-01 00:00:00 --- 2011-12-01 00:00:00  (n=60)\n",
      "Validation dates : 2012-01-01 00:00:00 --- 2013-12-01 00:00:00  (n=24)\n",
      "Test dates       : 2014-01-01 00:00:00 --- 2015-04-01 00:00:00  (n=16)\n"
     ]
    }
   ],
   "source": [
    "# Split data into train-validation-test\n",
    "# ======================================================================================\n",
    "end_train = '2011-12-01 23:59:00'\n",
    "end_val = '2013-12-01 23:59:00'\n",
    "\n",
    "data_train = consumption_data.loc[:end_train, :].copy()\n",
    "data_val   = consumption_data.loc[end_train:end_val, :].copy()\n",
    "data_test  = consumption_data.loc[end_val:, :].copy()\n",
    "print(f\"Train dates      : {data_train.index.min()} --- {data_train.index.max()}  (n={len(data_train)})\")\n",
    "print(f\"Validation dates : {data_val.index.min()} --- {data_val.index.max()}  (n={len(data_val)})\")\n",
    "print(f\"Test dates       : {data_test.index.min()} --- {data_test.index.max()}  (n={len(data_test)})\")"
   ]
  },
  {
   "cell_type": "code",
   "execution_count": 91,
   "id": "6d4c81d9-52c9-4356-bccd-4b77be76539a",
   "metadata": {
    "tags": []
   },
   "outputs": [
    {
     "data": {
      "text/plain": [
       "house_type\n",
       "nonsolar    59\n",
       "solar       59\n",
       "dtype: int64"
      ]
     },
     "execution_count": 91,
     "metadata": {},
     "output_type": "execute_result"
    }
   ],
   "source": [
    "data_train.isna().sum()"
   ]
  },
  {
   "cell_type": "code",
   "execution_count": 102,
   "id": "4ff8a7c1-708b-4312-ab3f-67c863f65b27",
   "metadata": {
    "tags": []
   },
   "outputs": [
    {
     "data": {
      "text/html": [
       "<div>\n",
       "<style scoped>\n",
       "    .dataframe tbody tr th:only-of-type {\n",
       "        vertical-align: middle;\n",
       "    }\n",
       "\n",
       "    .dataframe tbody tr th {\n",
       "        vertical-align: top;\n",
       "    }\n",
       "\n",
       "    .dataframe thead th {\n",
       "        text-align: right;\n",
       "    }\n",
       "</style>\n",
       "<table border=\"1\" class=\"dataframe\">\n",
       "  <thead>\n",
       "    <tr style=\"text-align: right;\">\n",
       "      <th>house_type</th>\n",
       "      <th>nonsolar</th>\n",
       "      <th>solar</th>\n",
       "    </tr>\n",
       "    <tr>\n",
       "      <th>Consumption Month</th>\n",
       "      <th></th>\n",
       "      <th></th>\n",
       "    </tr>\n",
       "  </thead>\n",
       "  <tbody>\n",
       "    <tr>\n",
       "      <th>2012-01-01</th>\n",
       "      <td>890801.521</td>\n",
       "      <td>1551023.546</td>\n",
       "    </tr>\n",
       "    <tr>\n",
       "      <th>2012-02-01</th>\n",
       "      <td>858432.522</td>\n",
       "      <td>1447673.482</td>\n",
       "    </tr>\n",
       "    <tr>\n",
       "      <th>2012-03-01</th>\n",
       "      <td>965353.658</td>\n",
       "      <td>1575917.407</td>\n",
       "    </tr>\n",
       "    <tr>\n",
       "      <th>2012-04-01</th>\n",
       "      <td>1017769.756</td>\n",
       "      <td>1613752.793</td>\n",
       "    </tr>\n",
       "    <tr>\n",
       "      <th>2012-05-01</th>\n",
       "      <td>1170253.436</td>\n",
       "      <td>1853170.163</td>\n",
       "    </tr>\n",
       "  </tbody>\n",
       "</table>\n",
       "</div>"
      ],
      "text/plain": [
       "house_type            nonsolar        solar\n",
       "Consumption Month                          \n",
       "2012-01-01          890801.521  1551023.546\n",
       "2012-02-01          858432.522  1447673.482\n",
       "2012-03-01          965353.658  1575917.407\n",
       "2012-04-01         1017769.756  1613752.793\n",
       "2012-05-01         1170253.436  1853170.163"
      ]
     },
     "execution_count": 102,
     "metadata": {},
     "output_type": "execute_result"
    }
   ],
   "source": [
    "data_val.head()"
   ]
  },
  {
   "cell_type": "code",
   "execution_count": 103,
   "id": "51729970-7b6d-4dbe-a1b6-0beeacc3d926",
   "metadata": {
    "tags": []
   },
   "outputs": [
    {
     "data": {
      "image/png": "[encoded data removed]",
      "text/plain": [
       "<Figure size 700x500 with 2 Axes>"
      ]
     },
     "metadata": {},
     "output_type": "display_data"
    }
   ],
   "source": [
    "\n",
    "# Plot time series\n",
    "# ======================================================================================\n",
    "set_dark_theme()\n",
    "fig, axs = plt.subplots(2, 1, figsize=(7, 5), sharex=True)\n",
    "consumption_data.iloc[:, :].plot(\n",
    "    legend   = True,\n",
    "    subplots = True, \n",
    "    title    = 'Power consumption',\n",
    "    ax       = axs, \n",
    ")\n",
    "for ax in axs:\n",
    "    ax.axvline(pd.to_datetime(end_train) , color='white', linestyle='--', linewidth=1.5)\n",
    "    ax.axvline(pd.to_datetime(end_val) , color='white', linestyle='--', linewidth=1.5)\n",
    "fig.tight_layout()\n",
    "plt.show()"
   ]
  },
  {
   "cell_type": "code",
   "execution_count": 104,
   "id": "39d93164-5221-46b4-a469-276f0aafce84",
   "metadata": {
    "tags": []
   },
   "outputs": [
    {
     "data": {
      "image/png": "[encoded data removed]",
      "text/plain": [
       "<Figure size 700x500 with 2 Axes>"
      ]
     },
     "metadata": {},
     "output_type": "display_data"
    }
   ],
   "source": [
    "# Autocorrelation plot\n",
    "# ======================================================================================\n",
    "fig, axes = plt.subplots(nrows=2, ncols=1, figsize=(7, 5), sharex=True)\n",
    "axes = axes.flat\n",
    "for i, col in enumerate(consumption_data.columns):\n",
    "    plot_acf(consumption_data[col], ax=axes[i], lags=7*5)\n",
    "    axes[i].set_ylim(-1, 1.1)\n",
    "    axes[i].set_title(f'{col}', fontsize=10)\n",
    "fig.tight_layout()\n",
    "plt.show()"
   ]
  },
  {
   "cell_type": "code",
   "execution_count": 105,
   "id": "a86913f2-88d3-49c4-96bc-4ba5020440a5",
   "metadata": {
    "tags": []
   },
   "outputs": [
    {
     "name": "stdout",
     "output_type": "stream",
     "text": [
      "ForecasterAutoregMultiSeries\n"
     ]
    }
   ],
   "source": [
    "# Train and backtest a model for both house types: ForecasterAutoregMultiSeries\n",
    "# ======================================================================================\n",
    "house_type = list(consumption_data.columns)\n",
    "\n",
    "# Define forecaster\n",
    "forecaster_ms = ForecasterAutoregMultiSeries(\n",
    "                    regressor          = HistGradientBoostingRegressor(random_state=823),\n",
    "                    lags               = 8,\n",
    "                    encoding           = 'ordinal',\n",
    "                    transformer_series = StandardScaler(),\n",
    "                )\n",
    "print(type(forecaster_ms).__name__)\n"
   ]
  },
  {
   "cell_type": "code",
   "execution_count": 110,
   "id": "88327787-07e7-4816-a723-a6ac5c105b9b",
   "metadata": {
    "tags": []
   },
   "outputs": [
    {
     "name": "stderr",
     "output_type": "stream",
     "text": [
      "/opt/conda/lib/python3.10/site-packages/skforecast/utils/utils.py:1058: UserWarning: Series has DatetimeIndex index but no frequency. Index is overwritten with a RangeIndex of step 1.\n",
      "  warnings.warn(\n"
     ]
    }
   ],
   "source": [
    "data_train.asfreq(\"MS\")\n",
    "forecaster_ms.fit(series=data_train[['solar', 'nonsolar']])\n"
   ]
  },
  {
   "cell_type": "code",
   "execution_count": 74,
   "id": "d97bfce0-5377-4f23-a4fa-7b8dbaa6ea38",
   "metadata": {
    "tags": []
   },
   "outputs": [
    {
     "data": {
      "text/html": [
       "<div>\n",
       "<style scoped>\n",
       "    .dataframe tbody tr th:only-of-type {\n",
       "        vertical-align: middle;\n",
       "    }\n",
       "\n",
       "    .dataframe tbody tr th {\n",
       "        vertical-align: top;\n",
       "    }\n",
       "\n",
       "    .dataframe thead th {\n",
       "        text-align: right;\n",
       "    }\n",
       "</style>\n",
       "<table border=\"1\" class=\"dataframe\">\n",
       "  <thead>\n",
       "    <tr style=\"text-align: right;\">\n",
       "      <th></th>\n",
       "      <th>nonsolar</th>\n",
       "      <th>solar</th>\n",
       "    </tr>\n",
       "  </thead>\n",
       "  <tbody>\n",
       "    <tr>\n",
       "      <th>60</th>\n",
       "      <td>8.886099e+05</td>\n",
       "      <td>1.728437e+06</td>\n",
       "    </tr>\n",
       "    <tr>\n",
       "      <th>61</th>\n",
       "      <td>8.648659e+05</td>\n",
       "      <td>1.728437e+06</td>\n",
       "    </tr>\n",
       "    <tr>\n",
       "      <th>62</th>\n",
       "      <td>9.162457e+05</td>\n",
       "      <td>1.728437e+06</td>\n",
       "    </tr>\n",
       "    <tr>\n",
       "      <th>63</th>\n",
       "      <td>9.345392e+05</td>\n",
       "      <td>1.728437e+06</td>\n",
       "    </tr>\n",
       "    <tr>\n",
       "      <th>64</th>\n",
       "      <td>9.748644e+05</td>\n",
       "      <td>1.728437e+06</td>\n",
       "    </tr>\n",
       "    <tr>\n",
       "      <th>65</th>\n",
       "      <td>1.054101e+06</td>\n",
       "      <td>1.728437e+06</td>\n",
       "    </tr>\n",
       "  </tbody>\n",
       "</table>\n",
       "</div>"
      ],
      "text/plain": [
       "        nonsolar         solar\n",
       "60  8.886099e+05  1.728437e+06\n",
       "61  8.648659e+05  1.728437e+06\n",
       "62  9.162457e+05  1.728437e+06\n",
       "63  9.345392e+05  1.728437e+06\n",
       "64  9.748644e+05  1.728437e+06\n",
       "65  1.054101e+06  1.728437e+06"
      ]
     },
     "metadata": {},
     "output_type": "display_data"
    },
    {
     "data": {
      "text/html": [
       "<div>\n",
       "<style scoped>\n",
       "    .dataframe tbody tr th:only-of-type {\n",
       "        vertical-align: middle;\n",
       "    }\n",
       "\n",
       "    .dataframe tbody tr th {\n",
       "        vertical-align: top;\n",
       "    }\n",
       "\n",
       "    .dataframe thead th {\n",
       "        text-align: right;\n",
       "    }\n",
       "</style>\n",
       "<table border=\"1\" class=\"dataframe\">\n",
       "  <thead>\n",
       "    <tr style=\"text-align: right;\">\n",
       "      <th></th>\n",
       "      <th>nonsolar</th>\n",
       "      <th>nonsolar_lower_bound</th>\n",
       "      <th>nonsolar_upper_bound</th>\n",
       "      <th>solar</th>\n",
       "      <th>solar_lower_bound</th>\n",
       "      <th>solar_upper_bound</th>\n",
       "    </tr>\n",
       "  </thead>\n",
       "  <tbody>\n",
       "    <tr>\n",
       "      <th>60</th>\n",
       "      <td>8.886099e+05</td>\n",
       "      <td>823852.953319</td>\n",
       "      <td>9.329798e+05</td>\n",
       "      <td>1.728437e+06</td>\n",
       "      <td>1.549836e+06</td>\n",
       "      <td>1.905797e+06</td>\n",
       "    </tr>\n",
       "    <tr>\n",
       "      <th>61</th>\n",
       "      <td>8.648659e+05</td>\n",
       "      <td>797966.540345</td>\n",
       "      <td>9.201317e+05</td>\n",
       "      <td>1.728437e+06</td>\n",
       "      <td>1.634493e+06</td>\n",
       "      <td>1.905797e+06</td>\n",
       "    </tr>\n",
       "    <tr>\n",
       "      <th>62</th>\n",
       "      <td>9.162457e+05</td>\n",
       "      <td>840117.497688</td>\n",
       "      <td>1.039496e+06</td>\n",
       "      <td>1.728437e+06</td>\n",
       "      <td>1.549836e+06</td>\n",
       "      <td>1.905797e+06</td>\n",
       "    </tr>\n",
       "    <tr>\n",
       "      <th>63</th>\n",
       "      <td>9.345392e+05</td>\n",
       "      <td>849762.522082</td>\n",
       "      <td>1.119903e+06</td>\n",
       "      <td>1.728437e+06</td>\n",
       "      <td>1.549836e+06</td>\n",
       "      <td>1.950503e+06</td>\n",
       "    </tr>\n",
       "    <tr>\n",
       "      <th>64</th>\n",
       "      <td>9.748644e+05</td>\n",
       "      <td>859262.192309</td>\n",
       "      <td>1.216826e+06</td>\n",
       "      <td>1.728437e+06</td>\n",
       "      <td>1.549836e+06</td>\n",
       "      <td>1.905797e+06</td>\n",
       "    </tr>\n",
       "    <tr>\n",
       "      <th>65</th>\n",
       "      <td>1.054101e+06</td>\n",
       "      <td>850498.412628</td>\n",
       "      <td>1.239195e+06</td>\n",
       "      <td>1.728437e+06</td>\n",
       "      <td>1.523446e+06</td>\n",
       "      <td>1.905797e+06</td>\n",
       "    </tr>\n",
       "  </tbody>\n",
       "</table>\n",
       "</div>"
      ],
      "text/plain": [
       "        nonsolar  nonsolar_lower_bound  nonsolar_upper_bound         solar  \\\n",
       "60  8.886099e+05         823852.953319          9.329798e+05  1.728437e+06   \n",
       "61  8.648659e+05         797966.540345          9.201317e+05  1.728437e+06   \n",
       "62  9.162457e+05         840117.497688          1.039496e+06  1.728437e+06   \n",
       "63  9.345392e+05         849762.522082          1.119903e+06  1.728437e+06   \n",
       "64  9.748644e+05         859262.192309          1.216826e+06  1.728437e+06   \n",
       "65  1.054101e+06         850498.412628          1.239195e+06  1.728437e+06   \n",
       "\n",
       "    solar_lower_bound  solar_upper_bound  \n",
       "60       1.549836e+06       1.905797e+06  \n",
       "61       1.634493e+06       1.905797e+06  \n",
       "62       1.549836e+06       1.905797e+06  \n",
       "63       1.549836e+06       1.950503e+06  \n",
       "64       1.549836e+06       1.905797e+06  \n",
       "65       1.523446e+06       1.905797e+06  "
      ]
     },
     "metadata": {},
     "output_type": "display_data"
    }
   ],
   "source": [
    "# Predict and predict_interval\n",
    "# ==============================================================================\n",
    "steps = 6\n",
    "\n",
    "# Predictions\n",
    "predictions = forecaster_ms.predict(steps=steps)\n",
    "display(predictions.head(6))\n",
    "\n",
    "# Interval predictions\n",
    "predictions_interval = forecaster_ms.predict_interval(steps=steps)\n",
    "display(predictions_interval.head(6))"
   ]
  },
  {
   "cell_type": "markdown",
   "id": "664909fc-a74f-49ea-af1f-396866eeff92",
   "metadata": {},
   "source": [
    "### Backtesting\n",
    "In time series forecasting, the process of backtesting consists of evaluating the performance of a predictive model by applying it retrospectively to historical data. Therefore, it is a special type of cross-validation applied to the previous period(s).\n",
    "\n",
    "The purpose of backtesting is to evaluate the accuracy and effectiveness of a model and identify any potential issues or areas of improvement. By testing the model on historical data, one can assess how well it performs on data that it has not seen before.\n",
    "\n",
    "Backtesting without refit is a strategy where the model is trained only once and used sequentially without updating it, following the temporal order of the data. This approach is advantageous as it is much faster than other methods that require retraining the model each time. However, the model may lose its predictive power over time as it does not incorporate the latest information available."
   ]
  },
  {
   "cell_type": "code",
   "execution_count": 111,
   "id": "6616cf4d-f724-45dd-b9a6-9f8fec78aaf2",
   "metadata": {
    "tags": []
   },
   "outputs": [
    {
     "data": {
      "application/vnd.jupyter.widget-view+json": {
       "model_id": "e674d7a9b14c4e00b23f03eee2ff2c19",
       "version_major": 2,
       "version_minor": 0
      },
      "text/plain": [
       "  0%|          | 0/4 [00:00<?, ?it/s]"
      ]
     },
     "metadata": {},
     "output_type": "display_data"
    },
    {
     "data": {
      "text/html": [
       "<div>\n",
       "<style scoped>\n",
       "    .dataframe tbody tr th:only-of-type {\n",
       "        vertical-align: middle;\n",
       "    }\n",
       "\n",
       "    .dataframe tbody tr th {\n",
       "        vertical-align: top;\n",
       "    }\n",
       "\n",
       "    .dataframe thead th {\n",
       "        text-align: right;\n",
       "    }\n",
       "</style>\n",
       "<table border=\"1\" class=\"dataframe\">\n",
       "  <thead>\n",
       "    <tr style=\"text-align: right;\">\n",
       "      <th></th>\n",
       "      <th>levels</th>\n",
       "      <th>mean_absolute_error</th>\n",
       "    </tr>\n",
       "  </thead>\n",
       "  <tbody>\n",
       "    <tr>\n",
       "      <th>0</th>\n",
       "      <td>nonsolar</td>\n",
       "      <td>62064.739328</td>\n",
       "    </tr>\n",
       "    <tr>\n",
       "      <th>1</th>\n",
       "      <td>solar</td>\n",
       "      <td>332397.665185</td>\n",
       "    </tr>\n",
       "  </tbody>\n",
       "</table>\n",
       "</div>"
      ],
      "text/plain": [
       "     levels  mean_absolute_error\n",
       "0  nonsolar         62064.739328\n",
       "1     solar        332397.665185"
      ]
     },
     "metadata": {},
     "output_type": "display_data"
    },
    {
     "name": "stdout",
     "output_type": "stream",
     "text": [
      "\n"
     ]
    },
    {
     "data": {
      "text/html": [
       "<div>\n",
       "<style scoped>\n",
       "    .dataframe tbody tr th:only-of-type {\n",
       "        vertical-align: middle;\n",
       "    }\n",
       "\n",
       "    .dataframe tbody tr th {\n",
       "        vertical-align: top;\n",
       "    }\n",
       "\n",
       "    .dataframe thead th {\n",
       "        text-align: right;\n",
       "    }\n",
       "</style>\n",
       "<table border=\"1\" class=\"dataframe\">\n",
       "  <thead>\n",
       "    <tr style=\"text-align: right;\">\n",
       "      <th></th>\n",
       "      <th>nonsolar</th>\n",
       "      <th>solar</th>\n",
       "    </tr>\n",
       "  </thead>\n",
       "  <tbody>\n",
       "    <tr>\n",
       "      <th>2014-01-01</th>\n",
       "      <td>9.096219e+05</td>\n",
       "      <td>1.621513e+06</td>\n",
       "    </tr>\n",
       "    <tr>\n",
       "      <th>2014-02-01</th>\n",
       "      <td>8.505975e+05</td>\n",
       "      <td>1.649158e+06</td>\n",
       "    </tr>\n",
       "    <tr>\n",
       "      <th>2014-03-01</th>\n",
       "      <td>9.459493e+05</td>\n",
       "      <td>1.680807e+06</td>\n",
       "    </tr>\n",
       "    <tr>\n",
       "      <th>2014-04-01</th>\n",
       "      <td>9.950310e+05</td>\n",
       "      <td>1.790405e+06</td>\n",
       "    </tr>\n",
       "    <tr>\n",
       "      <th>2014-05-01</th>\n",
       "      <td>1.040623e+06</td>\n",
       "      <td>1.864935e+06</td>\n",
       "    </tr>\n",
       "  </tbody>\n",
       "</table>\n",
       "</div>"
      ],
      "text/plain": [
       "                nonsolar         solar\n",
       "2014-01-01  9.096219e+05  1.621513e+06\n",
       "2014-02-01  8.505975e+05  1.649158e+06\n",
       "2014-03-01  9.459493e+05  1.680807e+06\n",
       "2014-04-01  9.950310e+05  1.790405e+06\n",
       "2014-05-01  1.040623e+06  1.864935e+06"
      ]
     },
     "metadata": {},
     "output_type": "display_data"
    }
   ],
   "source": [
    "# Backtesting forecaster for all items\n",
    "consumption_data = consumption_data.asfreq(\"MS\")\n",
    "multi_series_mae, predictions_ms = backtesting_forecaster_multiseries(\n",
    "                                       forecaster         = forecaster_ms,\n",
    "                                       series             = consumption_data,\n",
    "                                       levels             = house_type,\n",
    "                                       steps              = 4,\n",
    "                                       metric             = 'mean_absolute_error',\n",
    "                                       initial_train_size = len(data_train) + len(data_val),\n",
    "                                       refit              = False,\n",
    "                                       fixed_train_size   = False,\n",
    "                                       verbose            = False,\n",
    "                                       show_progress      = True \n",
    "                                    )\n",
    "# Results\n",
    "display(multi_series_mae.head())\n",
    "print('')\n",
    "display(predictions_ms.head())"
   ]
  },
  {
   "cell_type": "markdown",
   "id": "f7d0f889-72e6-48bb-b8a5-0bf3033425b5",
   "metadata": {},
   "source": [
    "### Individual forecaster for each house type\n",
    "\n"
   ]
  },
  {
   "cell_type": "code",
   "execution_count": 112,
   "id": "c780d4e3-31de-4301-b927-92cb04c62b9e",
   "metadata": {
    "tags": []
   },
   "outputs": [
    {
     "data": {
      "application/vnd.jupyter.widget-view+json": {
       "model_id": "8b2bc8a62154467f9d35afd9f073eeaf",
       "version_major": 2,
       "version_minor": 0
      },
      "text/plain": [
       "  0%|          | 0/2 [00:00<?, ?it/s]"
      ]
     },
     "metadata": {},
     "output_type": "display_data"
    },
    {
     "data": {
      "text/plain": [
       "solar        75655.753211\n",
       "nonsolar    282065.501742\n",
       "Name: uni_series_mae, dtype: float64"
      ]
     },
     "execution_count": 112,
     "metadata": {},
     "output_type": "execute_result"
    }
   ],
   "source": [
    "house_types = ['solar','nonsolar']\n",
    "mae_values = []\n",
    "predictions = {}\n",
    "\n",
    "for i, house_type in enumerate(tqdm(consumption_data.columns)):\n",
    "    # Define forecaster\n",
    "    forecaster = ForecasterAutoreg(\n",
    "                     regressor     = HistGradientBoostingRegressor(random_state=8523),\n",
    "                     lags          = 8,\n",
    "                     transformer_y = StandardScaler()\n",
    "                 )\n",
    "    # Backtesting forecaster\n",
    "    metric, preds = backtesting_forecaster(\n",
    "                        forecaster         = forecaster,\n",
    "                        y                  = consumption_data[house_type],\n",
    "                        initial_train_size = len(data_train) + len(data_val),\n",
    "                        steps              = 4,\n",
    "                        metric             = 'mean_absolute_error',\n",
    "                        refit              = False,\n",
    "                        fixed_train_size   = False,\n",
    "                        verbose            = False,\n",
    "                        show_progress      = False\n",
    "                    )\n",
    "\n",
    "    mae_values.append(metric)\n",
    "    predictions[house_type] = preds\n",
    "\n",
    "# Results\n",
    "uni_series_mae = pd.Series(\n",
    "                     data  = mae_values,\n",
    "                     index = house_types,\n",
    "                     name  = 'uni_series_mae'\n",
    "                 )\n",
    "uni_series_mae.head(10)"
   ]
  },
  {
   "cell_type": "code",
   "execution_count": null,
   "id": "db336a8a-8a4e-4e10-8444-edf02356244d",
   "metadata": {},
   "outputs": [],
   "source": []
  }
 ],
 "metadata": {
  "environment": {
   "kernel": "python3",
   "name": "tf2-cpu.2-11.m120",
   "type": "gcloud",
   "uri": "us-docker.pkg.dev/deeplearning-platform-release/gcr.io/tf2-cpu.2-11:m120"
  },
  "kernelspec": {
   "display_name": "Python 3 (Local)",
   "language": "python",
   "name": "python3"
  },
  "language_info": {
   "codemirror_mode": {
    "name": "ipython",
    "version": 3
   },
   "file_extension": ".py",
   "mimetype": "text/x-python",
   "name": "python",
   "nbconvert_exporter": "python",
   "pygments_lexer": "ipython3",
   "version": "3.10.14"
  }
 },
 "nbformat": 4,
 "nbformat_minor": 5
}
